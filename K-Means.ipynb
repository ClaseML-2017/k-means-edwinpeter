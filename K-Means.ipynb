{
 "cells": [
  {
   "cell_type": "markdown",
   "metadata": {},
   "source": [
    "# K-means "
   ]
  },
  {
   "cell_type": "code",
   "execution_count": 27,
   "metadata": {},
   "outputs": [],
   "source": [
    "# Edwin Peter\n",
    "# 177019"
   ]
  },
  {
   "cell_type": "markdown",
   "metadata": {},
   "source": [
    "# Data preprocessing"
   ]
  },
  {
   "cell_type": "code",
   "execution_count": 28,
   "metadata": {},
   "outputs": [
    {
     "name": "stdout",
     "output_type": "stream",
     "text": [
      "[['M' 0.35 0.265 ..., 0.0485 0.07 7]\n",
      " ['F' 0.53 0.42 ..., 0.1415 0.21 9]\n",
      " ['M' 0.44 0.365 ..., 0.114 0.155 10]\n",
      " ..., \n",
      " ['M' 0.6 0.475 ..., 0.2875 0.308 9]\n",
      " ['F' 0.625 0.485 ..., 0.261 0.29600000000000004 10]\n",
      " ['M' 0.71 0.555 ..., 0.3765 0.495 12]]\n"
     ]
    }
   ],
   "source": [
    "import csv\n",
    "import numpy as np\n",
    "import pandas as pd\n",
    "import urllib2\n",
    "import matplotlib.pyplot as plt\n",
    "from sklearn import preprocessing\n",
    "from sklearn.cross_validation import train_test_split\n",
    "from sklearn.cluster import KMeans\n",
    "from sklearn.metrics import mean_squared_error\n",
    "from sklearn.cross_validation import cross_val_score\n",
    "from sklearn import model_selection\n",
    "\n",
    "url = 'http://archive.ics.uci.edu/ml/machine-learning-databases/abalone/abalone.data'\n",
    "data = pd.read_csv(url)\n",
    "\n",
    "data = np.asarray(data)\n",
    "print data"
   ]
  },
  {
   "cell_type": "code",
   "execution_count": 29,
   "metadata": {},
   "outputs": [],
   "source": [
    "# Preprocessing\n",
    "X = data[:,0:-1]\n",
    "y = data[:,-1]\n",
    "column_to_encode = X[:,0]\n",
    "columns_to_scale = X[:,1:-1]\n",
    "\n",
    "#OHE for 'M' and 'F'\n",
    "encoder = preprocessing.LabelEncoder()\n",
    "encoded = encoder.fit_transform(column_to_encode)\n",
    "\n",
    "# Scaling\n",
    "scaler = preprocessing.StandardScaler()\n",
    "scaled = scaler.fit_transform(columns_to_scale)\n",
    "encoded = np.array(encoded)\n",
    "scaled = np.array(scaled)\n",
    "new_X = np.column_stack((encoded,scaled))"
   ]
  },
  {
   "cell_type": "markdown",
   "metadata": {},
   "source": [
    "# Classification using Decision Tree Classifier"
   ]
  },
  {
   "cell_type": "code",
   "execution_count": 30,
   "metadata": {},
   "outputs": [
    {
     "data": {
      "text/plain": [
       "array([[  1,   0,   0,   0,   0,   0,   0,   0,   0,   0,   0,   0,   0,\n",
       "          0,   0,   0,   0,   0,   0,   0,   0,   0,   0,   0,   0,   0,\n",
       "          0,   0],\n",
       "       [  0,   1,   0,   0,   0,   0,   0,   0,   0,   0,   0,   0,   0,\n",
       "          0,   0,   0,   0,   0,   0,   0,   0,   0,   0,   0,   0,   0,\n",
       "          0,   0],\n",
       "       [  0,   0,  15,   0,   0,   0,   0,   0,   0,   0,   0,   0,   0,\n",
       "          0,   0,   0,   0,   0,   0,   0,   0,   0,   0,   0,   0,   0,\n",
       "          0,   0],\n",
       "       [  0,   0,   0,  57,   0,   0,   0,   0,   0,   0,   0,   0,   0,\n",
       "          0,   0,   0,   0,   0,   0,   0,   0,   0,   0,   0,   0,   0,\n",
       "          0,   0],\n",
       "       [  0,   0,   0,   0, 115,   0,   0,   0,   0,   0,   0,   0,   0,\n",
       "          0,   0,   0,   0,   0,   0,   0,   0,   0,   0,   0,   0,   0,\n",
       "          0,   0],\n",
       "       [  0,   0,   0,   0,   0, 259,   0,   0,   0,   0,   0,   0,   0,\n",
       "          0,   0,   0,   0,   0,   0,   0,   0,   0,   0,   0,   0,   0,\n",
       "          0,   0],\n",
       "       [  0,   0,   0,   0,   0,   0, 391,   0,   0,   0,   0,   0,   0,\n",
       "          0,   0,   0,   0,   0,   0,   0,   0,   0,   0,   0,   0,   0,\n",
       "          0,   0],\n",
       "       [  0,   0,   0,   0,   0,   0,   0, 568,   0,   0,   0,   0,   0,\n",
       "          0,   0,   0,   0,   0,   0,   0,   0,   0,   0,   0,   0,   0,\n",
       "          0,   0],\n",
       "       [  0,   0,   0,   0,   0,   0,   0,   0, 689,   0,   0,   0,   0,\n",
       "          0,   0,   0,   0,   0,   0,   0,   0,   0,   0,   0,   0,   0,\n",
       "          0,   0],\n",
       "       [  0,   0,   0,   0,   0,   0,   0,   0,   0, 634,   0,   0,   0,\n",
       "          0,   0,   0,   0,   0,   0,   0,   0,   0,   0,   0,   0,   0,\n",
       "          0,   0],\n",
       "       [  0,   0,   0,   0,   0,   0,   0,   0,   0,   0, 487,   0,   0,\n",
       "          0,   0,   0,   0,   0,   0,   0,   0,   0,   0,   0,   0,   0,\n",
       "          0,   0],\n",
       "       [  0,   0,   0,   0,   0,   0,   0,   0,   0,   0,   0, 267,   0,\n",
       "          0,   0,   0,   0,   0,   0,   0,   0,   0,   0,   0,   0,   0,\n",
       "          0,   0],\n",
       "       [  0,   0,   0,   0,   0,   0,   0,   0,   0,   0,   0,   0, 203,\n",
       "          0,   0,   0,   0,   0,   0,   0,   0,   0,   0,   0,   0,   0,\n",
       "          0,   0],\n",
       "       [  0,   0,   0,   0,   0,   0,   0,   0,   0,   0,   0,   0,   0,\n",
       "        126,   0,   0,   0,   0,   0,   0,   0,   0,   0,   0,   0,   0,\n",
       "          0,   0],\n",
       "       [  0,   0,   0,   0,   0,   0,   0,   0,   0,   0,   0,   0,   0,\n",
       "          0, 102,   0,   0,   0,   0,   0,   0,   0,   0,   0,   0,   0,\n",
       "          0,   0],\n",
       "       [  0,   0,   0,   0,   0,   0,   0,   0,   0,   0,   0,   0,   0,\n",
       "          0,   0,  67,   0,   0,   0,   0,   0,   0,   0,   0,   0,   0,\n",
       "          0,   0],\n",
       "       [  0,   0,   0,   0,   0,   0,   0,   0,   0,   0,   0,   0,   0,\n",
       "          0,   0,   0,  58,   0,   0,   0,   0,   0,   0,   0,   0,   0,\n",
       "          0,   0],\n",
       "       [  0,   0,   0,   0,   0,   0,   0,   0,   0,   0,   0,   0,   0,\n",
       "          0,   0,   0,   0,  42,   0,   0,   0,   0,   0,   0,   0,   0,\n",
       "          0,   0],\n",
       "       [  0,   0,   0,   0,   0,   0,   0,   0,   0,   0,   0,   0,   0,\n",
       "          0,   0,   0,   0,   0,  32,   0,   0,   0,   0,   0,   0,   0,\n",
       "          0,   0],\n",
       "       [  0,   0,   0,   0,   0,   0,   0,   0,   0,   0,   0,   0,   0,\n",
       "          0,   0,   0,   0,   0,   0,  26,   0,   0,   0,   0,   0,   0,\n",
       "          0,   0],\n",
       "       [  0,   0,   0,   0,   0,   0,   0,   0,   0,   0,   0,   0,   0,\n",
       "          0,   0,   0,   0,   0,   0,   0,  14,   0,   0,   0,   0,   0,\n",
       "          0,   0],\n",
       "       [  0,   0,   0,   0,   0,   0,   0,   0,   0,   0,   0,   0,   0,\n",
       "          0,   0,   0,   0,   0,   0,   0,   0,   6,   0,   0,   0,   0,\n",
       "          0,   0],\n",
       "       [  0,   0,   0,   0,   0,   0,   0,   0,   0,   0,   0,   0,   0,\n",
       "          0,   0,   0,   0,   0,   0,   0,   0,   0,   9,   0,   0,   0,\n",
       "          0,   0],\n",
       "       [  0,   0,   0,   0,   0,   0,   0,   0,   0,   0,   0,   0,   0,\n",
       "          0,   0,   0,   0,   0,   0,   0,   0,   0,   0,   2,   0,   0,\n",
       "          0,   0],\n",
       "       [  0,   0,   0,   0,   0,   0,   0,   0,   0,   0,   0,   0,   0,\n",
       "          0,   0,   0,   0,   0,   0,   0,   0,   0,   0,   0,   1,   0,\n",
       "          0,   0],\n",
       "       [  0,   0,   0,   0,   0,   0,   0,   0,   0,   0,   0,   0,   0,\n",
       "          0,   0,   0,   0,   0,   0,   0,   0,   0,   0,   0,   0,   1,\n",
       "          0,   0],\n",
       "       [  0,   0,   0,   0,   0,   0,   0,   0,   0,   0,   0,   0,   0,\n",
       "          0,   0,   0,   0,   0,   0,   0,   0,   0,   0,   0,   0,   0,\n",
       "          2,   0],\n",
       "       [  0,   0,   0,   0,   0,   0,   0,   0,   0,   0,   0,   0,   0,\n",
       "          0,   0,   0,   0,   0,   0,   0,   0,   0,   0,   0,   0,   0,\n",
       "          0,   1]])"
      ]
     },
     "execution_count": 30,
     "metadata": {},
     "output_type": "execute_result"
    }
   ],
   "source": [
    "from sklearn.tree import DecisionTreeClassifier\n",
    "from sklearn.metrics import accuracy_score\n",
    "from sklearn.metrics import confusion_matrix\n",
    "\n",
    "classifier = DecisionTreeClassifier()\n",
    "classifier.fit(new_X, y.astype(int))\n",
    "prediction = classifier.predict(new_X)\n",
    "\n",
    "confusion_matrix(y.astype(int),prediction.astype(int))"
   ]
  },
  {
   "cell_type": "code",
   "execution_count": 31,
   "metadata": {},
   "outputs": [
    {
     "name": "stdout",
     "output_type": "stream",
     "text": [
      "Accuracy : 19.2100358843%\n"
     ]
    }
   ],
   "source": [
    "scores = model_selection.cross_val_score(classifier, new_X, y.astype(int), cv=5, scoring='accuracy')\n",
    "print \"Accuracy : {}%\".format(scores.mean()*100)"
   ]
  },
  {
   "cell_type": "markdown",
   "metadata": {},
   "source": [
    " # Finding optimal number of clusters\n",
    "\n"
   ]
  },
  {
   "cell_type": "code",
   "execution_count": 32,
   "metadata": {},
   "outputs": [
    {
     "data": {
      "image/png": "[encoded data removed]",
      "text/plain": [
       "<matplotlib.figure.Figure at 0x1104f8e50>"
      ]
     },
     "metadata": {},
     "output_type": "display_data"
    }
   ],
   "source": [
    "distance_to_centroid = []\n",
    "for i in range(1,10):\n",
    "    kmeans = KMeans(n_clusters = i, init='k-means++')\n",
    "    kmeans.fit(new_X)\n",
    "    distance_to_centroid.append(kmeans.inertia_)\n",
    "    \n",
    "plt.plot(range(1,10), distance_to_centroid)\n",
    "plt.show()\n",
    "# Optimal cluster = 5"
   ]
  },
  {
   "cell_type": "markdown",
   "metadata": {},
   "source": [
    "# K means algorithm"
   ]
  },
  {
   "cell_type": "code",
   "execution_count": 33,
   "metadata": {},
   "outputs": [
    {
     "name": "stdout",
     "output_type": "stream",
     "text": [
      "[2 0 0 ..., 3 4 1]\n"
     ]
    }
   ],
   "source": [
    "num_clusters = 5\n",
    "kmeans = KMeans(n_clusters = num_clusters, init='k-means++')\n",
    "kmeans.fit(new_X)\n",
    "prediction_clusters = kmeans.predict(new_X)\n",
    "print prediction_clusters"
   ]
  },
  {
   "cell_type": "code",
   "execution_count": 34,
   "metadata": {},
   "outputs": [
    {
     "name": "stdout",
     "output_type": "stream",
     "text": [
      "[[  0.           0.0498915    0.12201495 ...,  -0.46361041  -0.35684354\n",
      "    9.        ]\n",
      " [  2.          -0.69955786  -0.4322102  ...,  -0.64833409  -0.60773918\n",
      "   10.        ]\n",
      " [  0.           0.0498915    0.07163085 ...,  -0.5514668   -0.35684354\n",
      "   20.        ]\n",
      " ..., \n",
      " [  1.          -0.40810533  -0.4322102  ...,  -0.57399408  -0.84038785\n",
      "   10.        ]\n",
      " [  2.          -0.19992495  -0.28105788 ...,  -0.40729222  -0.49369571\n",
      "    9.        ]\n",
      " [  0.          -0.07501672  -0.07952146 ...,  -0.32844674  -0.52562788\n",
      "    8.        ]]\n"
     ]
    }
   ],
   "source": [
    "cluster_dictionary = {}\n",
    "for i in range(0,num_clusters):\n",
    "    cluster_dictionary[i] = []\n",
    "\n",
    "for cluster,data_x,data_y in zip(prediction_clusters, new_X, y):\n",
    "    new_data = np.append(np.asarray(data_x), np.asarray(data_y))\n",
    "    list = cluster_dictionary[cluster]\n",
    "    list.append(new_data)\n",
    "\n",
    "# Clusters:    \n",
    "print np.asarray(cluster_dictionary[0])\n",
    "#print np.asarray(cluster_dictionary[1])\n",
    "#print np.asarray(cluster_dictionary[2])\n",
    "#print np.asarray(cluster_dictionary[3])\n",
    "#print np.asarray(cluster_dictionary[4])"
   ]
  },
  {
   "cell_type": "markdown",
   "metadata": {},
   "source": [
    "# Using Classification on each Kmeans cluster"
   ]
  },
  {
   "cell_type": "code",
   "execution_count": 35,
   "metadata": {},
   "outputs": [],
   "source": [
    "from sklearn.ensemble import VotingClassifier"
   ]
  },
  {
   "cell_type": "code",
   "execution_count": 36,
   "metadata": {},
   "outputs": [
    {
     "name": "stdout",
     "output_type": "stream",
     "text": [
      "[[ 0.          0.0498915   0.12201495 ..., -0.30960118 -0.46361041\n",
      "  -0.35684354]\n",
      " [ 2.         -0.69955786 -0.4322102  ..., -0.63792816 -0.64833409\n",
      "  -0.60773918]\n",
      " [ 0.          0.0498915   0.07163085 ..., -0.10465173 -0.5514668\n",
      "  -0.35684354]\n",
      " ..., \n",
      " [ 1.         -0.40810533 -0.4322102  ..., -0.67259622 -0.57399408\n",
      "  -0.84038785]\n",
      " [ 2.         -0.19992495 -0.28105788 ..., -0.51353098 -0.40729222\n",
      "  -0.49369571]\n",
      " [ 0.         -0.07501672 -0.07952146 ..., -0.43603766 -0.32844674\n",
      "  -0.52562788]] [  9.  10.  20. ...,  10.   9.   8.]\n"
     ]
    },
    {
     "data": {
      "text/plain": [
       "DecisionTreeClassifier(class_weight=None, criterion='gini', max_depth=None,\n",
       "            max_features=None, max_leaf_nodes=None,\n",
       "            min_impurity_decrease=0.0, min_impurity_split=None,\n",
       "            min_samples_leaf=1, min_samples_split=2,\n",
       "            min_weight_fraction_leaf=0.0, presort=False, random_state=None,\n",
       "            splitter='best')"
      ]
     },
     "execution_count": 36,
     "metadata": {},
     "output_type": "execute_result"
    }
   ],
   "source": [
    "variables = np.asarray(cluster_dictionary[0])\n",
    "x_var = variables[:,0:-1]\n",
    "y_var = variables[:,-1]\n",
    "print x_var, y_var\n",
    "\n",
    "classifier = DecisionTreeClassifier()\n",
    "classifier.fit(x_var, y_var)"
   ]
  },
  {
   "cell_type": "code",
   "execution_count": 37,
   "metadata": {},
   "outputs": [
    {
     "data": {
      "text/plain": [
       "DecisionTreeClassifier(class_weight=None, criterion='gini', max_depth=None,\n",
       "            max_features=None, max_leaf_nodes=None,\n",
       "            min_impurity_decrease=0.0, min_impurity_split=None,\n",
       "            min_samples_leaf=1, min_samples_split=2,\n",
       "            min_weight_fraction_leaf=0.0, presort=False, random_state=None,\n",
       "            splitter='best')"
      ]
     },
     "execution_count": 37,
     "metadata": {},
     "output_type": "execute_result"
    }
   ],
   "source": [
    "classifiers = []\n",
    "for key in cluster_dictionary:\n",
    "    variables = np.asarray(cluster_dictionary[key])\n",
    "    x_var = variables[:,0:-1]\n",
    "    y_var = variables[:,-1]\n",
    "    \n",
    "    # Split train and test sets\n",
    "    #X_train, X_test, y_train, y_test = train_test_split(x_var, y_var, test_size = 0.25)\n",
    "    #y_train = y_train.astype('int')\n",
    "\n",
    "    classifier = DecisionTreeClassifier()\n",
    "    #classifier.fit(X_train, y_train)\n",
    "    classifier.fit(x_var, y_var)\n",
    "    classifiers.append(classifier)\n",
    "    \n",
    "classifiers[0]"
   ]
  },
  {
   "cell_type": "code",
   "execution_count": 38,
   "metadata": {},
   "outputs": [],
   "source": [
    " eclf1 = VotingClassifier(estimators=[('dtc1', classifiers[0]), \n",
    "                                      ('dtc2', classifiers[1]), \n",
    "                                      ('dtc3', classifiers[2]),\n",
    "                                      ('dtc4', classifiers[3]),\n",
    "                                      ('dtc5', classifiers[4])], voting='hard')"
   ]
  },
  {
   "cell_type": "code",
   "execution_count": 39,
   "metadata": {},
   "outputs": [
    {
     "data": {
      "text/plain": [
       "array([[ 0,  0,  0,  0,  0,  0,  0,  0,  0,  0,  0,  0,  0,  0,  0,  0,  0,\n",
       "         0,  0,  0,  0,  0,  0],\n",
       "       [ 0,  1,  1,  0,  0,  0,  0,  0,  0,  0,  0,  0,  0,  0,  0,  0,  0,\n",
       "         0,  0,  0,  0,  0,  0],\n",
       "       [ 1,  1,  5,  6,  3,  2,  0,  0,  1,  0,  0,  0,  0,  0,  0,  0,  0,\n",
       "         0,  0,  0,  0,  0,  0],\n",
       "       [ 0,  0,  7, 12, 11,  5,  0,  0,  0,  0,  0,  0,  0,  0,  0,  0,  0,\n",
       "         0,  0,  0,  0,  0,  0],\n",
       "       [ 0,  0,  2, 12, 17, 24,  7,  7,  2,  0,  0,  0,  0,  0,  0,  0,  0,\n",
       "         0,  0,  0,  0,  0,  0],\n",
       "       [ 0,  1,  1,  5, 21, 26, 21, 13,  4,  3,  0,  0,  1,  1,  0,  0,  0,\n",
       "         0,  0,  0,  0,  0,  0],\n",
       "       [ 0,  0,  0,  1, 14, 21, 29, 37, 17, 16,  2,  3,  2,  1,  2,  0,  1,\n",
       "         0,  0,  1,  0,  0,  0],\n",
       "       [ 0,  0,  0,  0,  8, 12, 25, 36, 36, 26, 15,  3,  5,  7,  2,  0,  1,\n",
       "         0,  1,  0,  0,  0,  0],\n",
       "       [ 0,  0,  0,  0,  1, 12, 14, 39, 33, 25, 11, 12,  6,  2,  5,  1,  2,\n",
       "         0,  1,  0,  0,  0,  0],\n",
       "       [ 0,  0,  0,  0,  1,  1, 15, 17, 29, 18,  8, 15,  2,  3,  2,  0,  1,\n",
       "         2,  0,  1,  0,  0,  0],\n",
       "       [ 0,  0,  0,  0,  1,  3,  4, 12, 10,  8, 10,  6,  4,  2,  0,  0,  1,\n",
       "         1,  0,  0,  1,  0,  0],\n",
       "       [ 0,  0,  0,  0,  1,  0,  4,  8,  5,  8,  3,  5,  3,  3,  3,  1,  0,\n",
       "         1,  1,  1,  0,  0,  0],\n",
       "       [ 0,  0,  0,  0,  2,  0,  1,  5,  1,  3,  1,  1,  4,  1,  1,  0,  2,\n",
       "         0,  0,  0,  1,  1,  0],\n",
       "       [ 0,  0,  0,  0,  0,  0,  1,  3,  4,  6,  3,  4,  0,  0,  2,  0,  1,\n",
       "         0,  0,  1,  1,  0,  0],\n",
       "       [ 0,  0,  0,  0,  0,  1,  1,  0,  2,  2,  2,  3,  2,  1,  0,  0,  2,\n",
       "         1,  1,  0,  0,  0,  0],\n",
       "       [ 0,  0,  0,  0,  0,  0,  0,  3,  3,  1,  1,  0,  1,  1,  0,  1,  0,\n",
       "         0,  1,  0,  0,  0,  0],\n",
       "       [ 0,  0,  0,  0,  0,  0,  2,  0,  1,  1,  1,  0,  0,  1,  0,  1,  2,\n",
       "         0,  0,  0,  0,  0,  0],\n",
       "       [ 0,  0,  0,  0,  0,  0,  1,  1,  1,  0,  2,  0,  1,  0,  1,  0,  2,\n",
       "         0,  0,  0,  0,  0,  0],\n",
       "       [ 0,  0,  0,  0,  0,  0,  2,  0,  0,  1,  0,  1,  1,  0,  0,  0,  1,\n",
       "         0,  0,  0,  0,  0,  0],\n",
       "       [ 0,  0,  0,  0,  0,  0,  0,  0,  1,  0,  0,  0,  0,  0,  0,  0,  0,\n",
       "         0,  0,  0,  0,  0,  0],\n",
       "       [ 0,  0,  0,  0,  0,  0,  0,  0,  0,  0,  0,  0,  0,  0,  1,  0,  0,\n",
       "         0,  0,  0,  0,  0,  0],\n",
       "       [ 0,  0,  0,  0,  0,  0,  0,  0,  0,  0,  0,  0,  0,  0,  0,  0,  0,\n",
       "         0,  0,  0,  0,  0,  0],\n",
       "       [ 0,  0,  0,  0,  0,  0,  0,  0,  0,  0,  0,  1,  0,  0,  0,  0,  0,\n",
       "         0,  0,  0,  0,  0,  0]])"
      ]
     },
     "execution_count": 39,
     "metadata": {},
     "output_type": "execute_result"
    }
   ],
   "source": [
    "eclf1 = eclf1.fit(X_train, y_train)\n",
    "prediction = eclf1.predict(X_test)\n",
    "\n",
    "confusion_matrix(y_test.astype(int),prediction.astype(int))"
   ]
  },
  {
   "cell_type": "code",
   "execution_count": 40,
   "metadata": {},
   "outputs": [
    {
     "name": "stdout",
     "output_type": "stream",
     "text": [
      "Accuracy : 79.7653256705%\n"
     ]
    }
   ],
   "source": [
    "acc = eclf1.score(new_X, y.astype(int))\n",
    "print \"Accuracy : {}%\".format(acc*100)"
   ]
  }
 ],
 "metadata": {
  "kernelspec": {
   "display_name": "Python 2",
   "language": "python",
   "name": "python2"
  },
  "language_info": {
   "codemirror_mode": {
    "name": "ipython",
    "version": 2
   },
   "file_extension": ".py",
   "mimetype": "text/x-python",
   "name": "python",
   "nbconvert_exporter": "python",
   "pygments_lexer": "ipython2",
   "version": "2.7.11"
  }
 },
 "nbformat": 4,
 "nbformat_minor": 2
}
